{
 "cells": [
  {
   "cell_type": "code",
   "execution_count": 2,
   "id": "2eab7888",
   "metadata": {},
   "outputs": [],
   "source": [
    "import pandas as pd"
   ]
  },
  {
   "cell_type": "code",
   "execution_count": 4,
   "id": "be8e7523",
   "metadata": {},
   "outputs": [],
   "source": [
    "data = {\n",
    "    'Year': ['2022', '2022', '2022', '2023', '2023', '2023'],\n",
    "    'Quarter': ['Q1', 'Q2', 'Q3', 'Q1', 'Q2', 'Q3'],\n",
    "    'Region': ['Asia', 'Europe', 'Asia', 'Europe', 'Asia', 'Europe'],\n",
    "    'Product': ['Laptop', 'Laptop', 'Mobile', 'Mobile', 'Laptop', 'Mobile'],\n",
    "    'Sales': [200, 150, 300, 250, 400, 100]\n",
    "}"
   ]
  },
  {
   "cell_type": "code",
   "execution_count": null,
   "id": "9994585a",
   "metadata": {},
   "outputs": [
    {
     "name": "stdout",
     "output_type": "stream",
     "text": [
      "Original Data:\n",
      "   Year Quarter  Region Product  Sales\n",
      "0  2022      Q1    Asia  Laptop    200\n",
      "1  2022      Q2  Europe  Laptop    150\n",
      "2  2022      Q3    Asia  Mobile    300\n",
      "3  2023      Q1  Europe  Mobile    250\n",
      "4  2023      Q2    Asia  Laptop    400\n",
      "5  2023      Q3  Europe  Mobile    100\n"
     ]
    }
   ],
   "source": [
    "df =pd.DataFrame(data)\n",
    "print(\"Original Data:\")\n",
    "print(df)"
   ]
  },
  {
   "cell_type": "code",
   "execution_count": 6,
   "id": "abd5d15f",
   "metadata": {},
   "outputs": [
    {
     "name": "stdout",
     "output_type": "stream",
     "text": [
      "\n",
      "Slice Operation (Year = 2023):\n",
      "   Year Quarter  Region Product  Sales\n",
      "3  2023      Q1  Europe  Mobile    250\n",
      "4  2023      Q2    Asia  Laptop    400\n",
      "5  2023      Q3  Europe  Mobile    100\n"
     ]
    }
   ],
   "source": [
    "slice_df = df[df['Year'] == '2023']\n",
    "print(\"\\nSlice Operation (Year = 2023):\")\n",
    "print(slice_df)"
   ]
  },
  {
   "cell_type": "code",
   "execution_count": 7,
   "id": "8031bc7a",
   "metadata": {},
   "outputs": [
    {
     "name": "stdout",
     "output_type": "stream",
     "text": [
      "\n",
      "Dice Operation (Year in ['2022', '2023'] AND Region = 'Asia'):\n",
      "   Year Quarter Region Product  Sales\n",
      "0  2022      Q1   Asia  Laptop    200\n",
      "2  2022      Q3   Asia  Mobile    300\n",
      "4  2023      Q2   Asia  Laptop    400\n"
     ]
    }
   ],
   "source": [
    "dice_df = df[(df['Year'].isin(['2022', '2023'])) & (df['Region'] == 'Asia')]\n",
    "print(\"\\nDice Operation (Year in ['2022', '2023'] AND Region = 'Asia'):\")\n",
    "print(dice_df)"
   ]
  },
  {
   "cell_type": "code",
   "execution_count": 8,
   "id": "8ec8ce01",
   "metadata": {},
   "outputs": [
    {
     "name": "stdout",
     "output_type": "stream",
     "text": [
      "\n",
      "Roll-up Operation (Sales by Year):\n",
      "   Year  Sales\n",
      "0  2022    650\n",
      "1  2023    750\n"
     ]
    }
   ],
   "source": [
    "rollup_df = df.groupby('Year')['Sales'].sum().reset_index()\n",
    "print(\"\\nRoll-up Operation (Sales by Year):\")\n",
    "print(rollup_df)"
   ]
  },
  {
   "cell_type": "code",
   "execution_count": 9,
   "id": "66a44693",
   "metadata": {},
   "outputs": [
    {
     "name": "stdout",
     "output_type": "stream",
     "text": [
      "\n",
      "Drill-down Operation (Sales by Year and Quarter):\n",
      "   Year Quarter  Sales\n",
      "0  2022      Q1    200\n",
      "1  2022      Q2    150\n",
      "2  2022      Q3    300\n",
      "3  2023      Q1    250\n",
      "4  2023      Q2    400\n",
      "5  2023      Q3    100\n"
     ]
    }
   ],
   "source": [
    "drilldown_df = df.groupby(['Year', 'Quarter'])['Sales'].sum().reset_index()\n",
    "print(\"\\nDrill-down Operation (Sales by Year and Quarter):\")\n",
    "print(drilldown_df)"
   ]
  },
  {
   "cell_type": "code",
   "execution_count": 10,
   "id": "4c66f2dc",
   "metadata": {},
   "outputs": [
    {
     "name": "stdout",
     "output_type": "stream",
     "text": [
      "\n",
      "Pivot Operation (Product vs Region):\n",
      "Region   Asia  Europe\n",
      "Product              \n",
      "Laptop    600     150\n",
      "Mobile    300     350\n"
     ]
    }
   ],
   "source": [
    "pivot_df = pd.pivot_table(df, values='Sales', index='Product', columns='Region', aggfunc='sum')\n",
    "print(\"\\nPivot Operation (Product vs Region):\")\n",
    "print(pivot_df)"
   ]
  }
 ],
 "metadata": {
  "kernelspec": {
   "display_name": "Python 3",
   "language": "python",
   "name": "python3"
  },
  "language_info": {
   "codemirror_mode": {
    "name": "ipython",
    "version": 3
   },
   "file_extension": ".py",
   "mimetype": "text/x-python",
   "name": "python",
   "nbconvert_exporter": "python",
   "pygments_lexer": "ipython3",
   "version": "3.12.4"
  }
 },
 "nbformat": 4,
 "nbformat_minor": 5
}
